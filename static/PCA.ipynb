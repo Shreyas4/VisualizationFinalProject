{
 "cells": [
  {
   "cell_type": "code",
   "execution_count": 113,
   "metadata": {
    "collapsed": true
   },
   "outputs": [],
   "source": [
    "teams_leagues = {\"FC Barcelona\":\"La Liga\",\n",
    "\"Real Madrid\":\"La Liga\",\n",
    "\"FC Bayern München\":\"Bundesliga\",\n",
    "\"Paris Saint-Germain\":\"Ligue 1\",\n",
    "\"Chelsea\":\"Premier League\",\n",
    "\"Manchester United\":\"Premier League\",\n",
    "\"Manchester City\":\"Premier League\",\n",
    "\"Borussia Dortmund\":\"Bundesliga\",\n",
    "\"Arsenal\":\"Premier League\",\n",
    "\"Juventus\":\"Serie A\",\n",
    "\"Tottenham Hotspur\":\"Premier League\",\n",
    "\"Atlético Madrid\":\"La Liga\",\n",
    "\"Napoli\":\"Serie A\",\n",
    "\"Roma\":\"Serie A\",\n",
    "\"FC Schalke 04\":\"Bundesliga\",\n",
    "\"Fiorentina\":\"Serie A\",\n",
    "\"Liverpool\":\"Premier League\",\n",
    "\"Lazio\":\"Serie A\",\n",
    "\"AS Monaco\":\"Ligue 1\",\n",
    "\"Inter\":\"Serie A\",\n",
    "\"Valencia CF\":\"La Liga\",\n",
    "\"Milan\":\"Serie A\",\n",
    "\"Real Sociedad\":\"La Liga\",\n",
    "\"Bayer 04 Leverkusen\":\"Bundesliga\",\n",
    "\"VfL Wolfsburg\":\"Bundesliga\",\n",
    "\"Everton\":\"Premier League\",\n",
    "\"Stoke City\":\"Premier League\",\n",
    "\"Sevilla FC\":\"La Liga\",\n",
    "\"Borussia Mönchengladbach\":\"Bundesliga\",\n",
    "\"West Ham United\":\"Premier League\",\n",
    "\"Athletic Club de Bilbao\":\"La Liga\",\n",
    "\"Southampton\":\"Premier League\",\n",
    "\"Olympique Lyonnais\":\"Ligue 1\",\n",
    "\"Olympique de Marseille\":\"Ligue 1\",\n",
    "\"Villarreal CF\":\"La Liga\",\n",
    "\"Aston Villa\":\"Premier League\",\n",
    "\"Newcastle United\":\"Premier League\",\n",
    "\"Queens Park Rangers\":\"Premier League\",\n",
    "\"AS Saint-Étienne\":\"Ligue 1\",\n",
    "\"Hamburger SV\":\"Bundesliga\",\n",
    "\"TSG 1899 Hoffenheim\":\"Bundesliga\",\n",
    "\"LOSC Lille\":\"Ligue 1\",\n",
    "\"Swansea City\":\"Premier League\",\n",
    "\"Eintracht Frankfurt\":\"Bundesliga\",\n",
    "\"VfB Stuttgart\":\"Bundesliga\",\n",
    "\"Sampdoria\":\"Serie A\",\n",
    "\"Torino\":\"Serie A\",\n",
    "\"FC Girondins de Bordeaux\":\"Ligue 1\",\n",
    "\"Málaga CF\":\"La Liga\",\n",
    "\"Sunderland\":\"Premier League\",\n",
    "\"West Bromwich Albion\":\"Premier League\",\n",
    "\"Hertha BSC\":\"Bundesliga\",\n",
    "\"1. FSV Mainz 05\":\"Bundesliga\",\n",
    "\"RC Celta\":\"La Liga\",\n",
    "\"Genoa\":\"Serie A\",\n",
    "\"Rayo Vallecano\":\"La Liga\",\n",
    "\"Hannover 96\":\"Bundesliga\",\n",
    "\"Crystal Palace\":\"Premier League\",\n",
    "\"SV Werder Bremen\":\"Bundesliga\",\n",
    "\"Atalanta\":\"Serie A\",\n",
    "\"Palermo\":\"Serie A\",\n",
    "\"Udinese\":\"Serie A\",\n",
    "\"FC Augsburg\":\"Bundesliga\",\n",
    "\"Getafe CF\":\"La Liga\",\n",
    "\"Stade Rennais FC\":\"Ligue 1\",\n",
    "\"Sassuolo\":\"Serie A\",\n",
    "\"Hull City\":\"Premier League\",\n",
    "\"RCD Espanyol\":\"La Liga\",\n",
    "\"Granada CF\":\"La Liga\",\n",
    "\"Deportivo de La Coruña\":\"La Liga\",\n",
    "\"Toulouse Football Club\":\"Ligue 1\",\n",
    "\"SC Freiburg\":\"Bundesliga\",\n",
    "\"1. FC Köln\":\"Bundesliga\",\n",
    "\"Cagliari\":\"Serie A\",\n",
    "\"Levante UD\":\"La Liga\",\n",
    "\"En Avant de Guingamp\":\"Ligue 1\",\n",
    "\"UD Almería\":\"La Liga\",\n",
    "\"Montpellier HSC\":\"Ligue 1\",\n",
    "\"FC Nantes\":\"Ligue 1\",\n",
    "\"Leicester City\":\"Premier League\",\n",
    "\"Stade de Reims\":\"Ligue 1\",\n",
    "\"Chievo Verona\":\"Serie A\",\n",
    "\"Hellas Verona\":\"Serie A\",\n",
    "\"Empoli\":\"Serie A\",\n",
    "\"SD Eibar\":\"La Liga\",\n",
    "\"Elche CF\":\"La Liga\",\n",
    "\"Parma\":\"Serie A\",\n",
    "\"Sporting Club de Bastia\":\"Ligue 1\",\n",
    "\"OGC Nice\":\"Ligue 1\",\n",
    "\"Córdoba CF\":\"La Liga\",\n",
    "\"FC Lorient\":\"Ligue 1\",\n",
    "\"Burnley\":\"Premier League\",\n",
    "\"Évian Thonon Gaillard FC\":\"Ligue 1\",\n",
    "\"SC Paderborn 07\":\"Bundesliga\",\n",
    "\"Stade Malherbe Caen\":\"Ligue 1\",\n",
    "\"Cesena\":\"Serie A\",\n",
    "\"FC Metz\":\"Ligue 1\",\n",
    "\"Racing Club de Lens\":\"Ligue 1\",\n",
    "\"Watford\":\"Premier League\",\n",
    "\"Norwich City\":\"Premier League\",\n",
    "\"Bologna\":\"Serie A\",\n",
    "\"Bournemouth\":\"Premier League\",\n",
    "\"Real Sporting de Gijón\":\"La Liga\",\n",
    "\"Carpi\":\"Serie A\",\n",
    "\"FC Ingolstadt 04\":\"Bundesliga\",\n",
    "\"UD Las Palmas\":\"La Liga\",\n",
    "\"SV Darmstadt 98\":\"Bundesliga\",\n",
    "\"Angers SCO\":\"Ligue 1\",\n",
    "\"ESTAC Troyes\":\"Ligue 1\",\n",
    "\"Frosinone\":\"Serie A\",\n",
    "\"GFC Ajaccio\":\"Ligue 1\",\n",
    "\"Middlesbrough\":\"Premier League\",\n",
    "\"CD Leganés\":\"La Liga\",\n",
    "\"RB Leipzig\":\"Bundesliga\",\n",
    "\"Deportivo Alavés\":\"La Liga\",\n",
    "\"Pescara\":\"Serie A\",\n",
    "\"Dijon FCO\":\"Ligue 1\",\n",
    "\"AS Nancy Lorraine\":\"Ligue 1\",\n",
    "\"Crotone\":\"Serie A\",\n",
    "\"Real Betis\":\"La Liga\",\n",
    "\"Girona FC\":\"La Liga\",\n",
    "\"Huddersfield Town\":\"Premier League\",\n",
    "\"Amiens SC\":\"Ligue 1\",\n",
    "\"SPAL\":\"Serie A\",\n",
    "\"RC Strasbourg Alsace\":\"Ligue 1\",\n",
    "\"Benevento\":\"Serie A\",\n",
    "\"Wolverhampton Wanderers\":\"Premier League\",\n",
    "\"Brighton & Hove Albion\":\"Premier League\",\n",
    "\"Fulham\":\"Premier League\",\n",
    "\"Fortuna Düsseldorf\":\"Bundesliga\",\n",
    "\"Cardiff City\":\"Premier League\",\n",
    "\"Nîmes Olympique\":\"Ligue 1\",\n",
    "\"1. FC Nürnberg\":\"Bundesliga\",\n",
    "\"SD Huesca\":\"La Liga\",\n",
    "\"Sheffield United\":\"Premier League\",\n",
    "\"RCD Mallorca\":\"La Liga\",\n",
    "\"1. FC Union Berlin\":\"Bundesliga\",\n",
    "\"Lecce\":\"Serie A\",\n",
    "\"Stade Brestois 29\":\"Ligue 1\",\n",
    "\"Brescia\":\"Serie A\",\n",
    "\"CA Osasuna\":\"La Liga\",\n",
    "\"Real Valladolid CF\":\"La Liga\"}\n",
    "import pandas as pd\n",
    "from sklearn.decomposition import PCA\n",
    "from sklearn.preprocessing import LabelEncoder, MinMaxScaler"
   ]
  },
  {
   "cell_type": "code",
   "execution_count": 114,
   "outputs": [
    {
     "data": {
      "text/plain": "Unnamed: 0                   int64\nname                        object\nclub                        object\nleague                      object\nattacking                    int64\ndefending                    int64\ngoalkeeping                  int64\naverage_age                  int64\ninternational_reputation     int64\nmentality                    int64\nmovement                     int64\noverall                      int64\npotential                    int64\npower                        int64\nskill                        int64\nskill_moves                  int64\nvalue_eur                    int64\nwage_eur                     int64\nwork_rate                   object\nyear                         int64\ndtype: object"
     },
     "execution_count": 114,
     "metadata": {},
     "output_type": "execute_result"
    }
   ],
   "source": [
    "df = pd.read_csv('../FIFAData/DataForClubs.csv')\n",
    "df.shape\n",
    "df.dtypes"
   ],
   "metadata": {
    "collapsed": false,
    "pycharm": {
     "name": "#%%\n"
    }
   }
  },
  {
   "cell_type": "code",
   "execution_count": 115,
   "outputs": [],
   "source": [
    "dict = {'High':10, 'Medium':7, 'Low':5}\n",
    "df['work_rate'] = df['work_rate'].apply(lambda x:dict[x.strip()], convert_dtype=True)\n",
    "cols = list(df.columns.values)[4:-2]\n",
    "# cols.append('club')"
   ],
   "metadata": {
    "collapsed": false,
    "pycharm": {
     "name": "#%%\n"
    }
   }
  },
  {
   "cell_type": "code",
   "execution_count": 116,
   "outputs": [],
   "source": [
    "res = df.groupby('club')[cols].mean()\n",
    "# list(res.index)\n",
    "# df = df[cols[-1]]"
   ],
   "metadata": {
    "collapsed": false,
    "pycharm": {
     "name": "#%%\n"
    }
   }
  },
  {
   "cell_type": "code",
   "execution_count": 117,
   "outputs": [],
   "source": [
    "pca = PCA(n_components=df[cols].shape[1])\n",
    "x = MinMaxScaler().fit_transform(res)\n",
    "principalComponents = pca.fit_transform(x)"
   ],
   "metadata": {
    "collapsed": false,
    "pycharm": {
     "name": "#%%\n"
    }
   }
  },
  {
   "cell_type": "code",
   "execution_count": 118,
   "outputs": [
    {
     "data": {
      "text/plain": "0.8508960277071077"
     },
     "execution_count": 118,
     "metadata": {},
     "output_type": "execute_result"
    }
   ],
   "source": [
    "sum(pca.explained_variance_ratio_[:2])\n",
    "# principalComponents[:,:2].shape"
   ],
   "metadata": {
    "collapsed": false,
    "pycharm": {
     "name": "#%%\n"
    }
   }
  },
  {
   "cell_type": "code",
   "execution_count": 119,
   "outputs": [
    {
     "data": {
      "text/plain": "<Figure size 432x288 with 1 Axes>",
      "image/png": "[encoded data removed]"
     },
     "metadata": {
      "needs_background": "light"
     },
     "output_type": "display_data"
    }
   ],
   "source": [
    "import numpy as np\n",
    "from matplotlib import pyplot as plt\n",
    "from sklearn.cluster import KMeans\n",
    "wcss = []\n",
    "for i in range(1, 11):\n",
    "    kmeans = KMeans(n_clusters=i, init='k-means++', max_iter=300, n_init=10, random_state=0)\n",
    "    kmeans.fit(principalComponents[:,:2])\n",
    "    wcss.append(kmeans.inertia_)\n",
    "plt.plot(range(1, 11), wcss)\n",
    "plt.title('Elbow Method')\n",
    "plt.xlabel('Number of clusters')\n",
    "plt.ylabel('WCSS')\n",
    "plt.show()"
   ],
   "metadata": {
    "collapsed": false,
    "pycharm": {
     "name": "#%%\n"
    }
   }
  },
  {
   "cell_type": "code",
   "execution_count": 120,
   "outputs": [
    {
     "data": {
      "text/plain": "<matplotlib.collections.PathCollection at 0x27ab974fa08>"
     },
     "execution_count": 120,
     "metadata": {},
     "output_type": "execute_result"
    },
    {
     "data": {
      "text/plain": "<Figure size 576x432 with 1 Axes>",
      "image/png": "[encoded data removed]"
     },
     "metadata": {
      "needs_background": "light"
     },
     "output_type": "display_data"
    }
   ],
   "source": [
    "# kmeans = KMeans(n_clusters=3, init='k-means++', max_iter=300, n_init=10, random_state=0)\n",
    "pred_y = kmeans.fit_predict(principalComponents[:,:2])\n",
    "model = KMeans(n_clusters=4).fit(principalComponents[:,:2])\n",
    "\n",
    "# Visualize it:\n",
    "plt.figure(figsize=(8, 6))\n",
    "plt.scatter(principalComponents[:,0], principalComponents[:,1], c=model.labels_.astype(float))\n",
    "# df['Cluster'] = pred_y\n",
    "# plt.figure(figsize=(20,10))\n",
    "# # plt.scatter(np.array(df.iloc[:,0]), np.array(df.iloc[:,1]), s=30, c='blue')\n",
    "# plt.scatter(principalComponents[:,0], principalComponents[:,1], s=10, c='red')"
   ],
   "metadata": {
    "collapsed": false,
    "pycharm": {
     "name": "#%%\n"
    }
   }
  },
  {
   "cell_type": "code",
   "execution_count": 121,
   "outputs": [
    {
     "data": {
      "text/plain": "                    attacking  defending  goalkeeping  average_age  \\\nclub                                                                 \n1. FC Köln          53.134146  49.713415    18.115854    24.371951   \n1. FC Nürnberg      50.434524  45.404762    16.309524    24.547619   \n1. FC Union Berlin  51.382353  45.158824    16.217647    25.129412   \n1. FSV Mainz 05     54.069149  48.462766    17.047872    23.867021   \nAS Monaco           54.726316  48.678947    17.400000    23.331579   \nAS Nancy Lorraine   48.453416  45.913043    15.801242    25.099379   \nAS Saint-Étienne    55.622222  52.300000    16.444444    24.622222   \nAmiens SC           51.483607  45.188525    15.762295    25.098361   \nAngers SCO          52.022346  47.173184    15.938547    25.675978   \nArsenal             57.162437  51.939086    16.025381    24.319797   \n\n                    international_reputation  mentality   movement    overall  \\\nclub                                                                            \n1. FC Köln                          1.304878  53.896341  65.115854  71.176829   \n1. FC Nürnberg                      1.125000  50.214286  64.476190  67.714286   \n1. FC Union Berlin                  1.070588  51.064706  64.317647  67.088235   \n1. FSV Mainz 05                     1.164894  54.239362  67.207447  70.781915   \nAS Monaco                           1.573684  54.621053  66.184211  72.573684   \nAS Nancy Lorraine                   1.105590  48.993789  63.149068  65.434783   \nAS Saint-Étienne                    1.361111  55.616667  65.188889  70.650000   \nAmiens SC                           1.081967  51.327869  62.836066  66.655738   \nAngers SCO                          1.100559  51.938547  62.268156  67.905028   \nArsenal                             2.050761  58.573604  68.695431  75.065990   \n\n                    potential      power      skill  skill_moves  \\\nclub                                                               \n1. FC Köln          76.548780  61.426829  54.274390     2.414634   \n1. FC Nürnberg      73.029762  60.863095  52.196429     2.410714   \n1. FC Union Berlin  71.823529  61.000000  52.894118     2.341176   \n1. FSV Mainz 05     76.819149  61.930851  56.287234     2.425532   \nAS Monaco           79.931579  61.868421  56.836842     2.542105   \nAS Nancy Lorraine   70.677019  57.689441  49.236025     2.167702   \nAS Saint-Étienne    75.761111  63.011111  56.933333     2.400000   \nAmiens SC           71.475410  59.713115  53.967213     2.434426   \nAngers SCO          71.597765  59.938547  53.240223     2.301676   \nArsenal             81.091371  63.228426  59.548223     2.705584   \n\n                       value_eur      wage_eur                club  \\\nclub                                                                 \n1. FC Köln          4.310396e+06  17335.365854          1. FC Köln   \n1. FC Nürnberg      1.488363e+06   7220.238095      1. FC Nürnberg   \n1. FC Union Berlin  1.298853e+06  10341.176471  1. FC Union Berlin   \n1. FSV Mainz 05     3.533404e+06  15611.702128     1. FSV Mainz 05   \nAS Monaco           6.621000e+06  27810.526316           AS Monaco   \nAS Nancy Lorraine   7.576087e+05   3149.068323   AS Nancy Lorraine   \nAS Saint-Étienne    3.748806e+06  16572.222222    AS Saint-Étienne   \nAmiens SC           2.269959e+06   8754.098361           Amiens SC   \nAngers SCO          2.110978e+06   9178.770950          Angers SCO   \nArsenal             1.162673e+07  62162.436548             Arsenal   \n\n                            league       pc1       pc2  cluster  \nclub                                                             \n1. FC Köln              Bundesliga  0.065325 -0.194305        2  \n1. FC Nürnberg          Bundesliga -0.480878  0.124590        1  \n1. FC Union Berlin      Bundesliga -0.504204  0.036569        1  \n1. FSV Mainz 05         Bundesliga  0.111210  0.091784        2  \nAS Monaco                  Ligue 1  0.406270  0.131337        2  \nAS Nancy Lorraine          Ligue 1 -0.912328  0.084571        1  \nAS Saint-Étienne           Ligue 1  0.199340 -0.034396        2  \nAmiens SC                  Ligue 1 -0.524334  0.089463        1  \nAngers SCO                 Ligue 1 -0.507906 -0.090058        1  \nArsenal             Premier League  1.040308  0.262990        0  ",
      "text/html": "<div>\n<style scoped>\n    .dataframe tbody tr th:only-of-type {\n        vertical-align: middle;\n    }\n\n    .dataframe tbody tr th {\n        vertical-align: top;\n    }\n\n    .dataframe thead th {\n        text-align: right;\n    }\n</style>\n<table border=\"1\" class=\"dataframe\">\n  <thead>\n    <tr style=\"text-align: right;\">\n      <th></th>\n      <th>attacking</th>\n      <th>defending</th>\n      <th>goalkeeping</th>\n      <th>average_age</th>\n      <th>international_reputation</th>\n      <th>mentality</th>\n      <th>movement</th>\n      <th>overall</th>\n      <th>potential</th>\n      <th>power</th>\n      <th>skill</th>\n      <th>skill_moves</th>\n      <th>value_eur</th>\n      <th>wage_eur</th>\n      <th>club</th>\n      <th>league</th>\n      <th>pc1</th>\n      <th>pc2</th>\n      <th>cluster</th>\n    </tr>\n    <tr>\n      <th>club</th>\n      <th></th>\n      <th></th>\n      <th></th>\n      <th></th>\n      <th></th>\n      <th></th>\n      <th></th>\n      <th></th>\n      <th></th>\n      <th></th>\n      <th></th>\n      <th></th>\n      <th></th>\n      <th></th>\n      <th></th>\n      <th></th>\n      <th></th>\n      <th></th>\n      <th></th>\n    </tr>\n  </thead>\n  <tbody>\n    <tr>\n      <td>1. FC Köln</td>\n      <td>53.134146</td>\n      <td>49.713415</td>\n      <td>18.115854</td>\n      <td>24.371951</td>\n      <td>1.304878</td>\n      <td>53.896341</td>\n      <td>65.115854</td>\n      <td>71.176829</td>\n      <td>76.548780</td>\n      <td>61.426829</td>\n      <td>54.274390</td>\n      <td>2.414634</td>\n      <td>4.310396e+06</td>\n      <td>17335.365854</td>\n      <td>1. FC Köln</td>\n      <td>Bundesliga</td>\n      <td>0.065325</td>\n      <td>-0.194305</td>\n      <td>2</td>\n    </tr>\n    <tr>\n      <td>1. FC Nürnberg</td>\n      <td>50.434524</td>\n      <td>45.404762</td>\n      <td>16.309524</td>\n      <td>24.547619</td>\n      <td>1.125000</td>\n      <td>50.214286</td>\n      <td>64.476190</td>\n      <td>67.714286</td>\n      <td>73.029762</td>\n      <td>60.863095</td>\n      <td>52.196429</td>\n      <td>2.410714</td>\n      <td>1.488363e+06</td>\n      <td>7220.238095</td>\n      <td>1. FC Nürnberg</td>\n      <td>Bundesliga</td>\n      <td>-0.480878</td>\n      <td>0.124590</td>\n      <td>1</td>\n    </tr>\n    <tr>\n      <td>1. FC Union Berlin</td>\n      <td>51.382353</td>\n      <td>45.158824</td>\n      <td>16.217647</td>\n      <td>25.129412</td>\n      <td>1.070588</td>\n      <td>51.064706</td>\n      <td>64.317647</td>\n      <td>67.088235</td>\n      <td>71.823529</td>\n      <td>61.000000</td>\n      <td>52.894118</td>\n      <td>2.341176</td>\n      <td>1.298853e+06</td>\n      <td>10341.176471</td>\n      <td>1. FC Union Berlin</td>\n      <td>Bundesliga</td>\n      <td>-0.504204</td>\n      <td>0.036569</td>\n      <td>1</td>\n    </tr>\n    <tr>\n      <td>1. FSV Mainz 05</td>\n      <td>54.069149</td>\n      <td>48.462766</td>\n      <td>17.047872</td>\n      <td>23.867021</td>\n      <td>1.164894</td>\n      <td>54.239362</td>\n      <td>67.207447</td>\n      <td>70.781915</td>\n      <td>76.819149</td>\n      <td>61.930851</td>\n      <td>56.287234</td>\n      <td>2.425532</td>\n      <td>3.533404e+06</td>\n      <td>15611.702128</td>\n      <td>1. FSV Mainz 05</td>\n      <td>Bundesliga</td>\n      <td>0.111210</td>\n      <td>0.091784</td>\n      <td>2</td>\n    </tr>\n    <tr>\n      <td>AS Monaco</td>\n      <td>54.726316</td>\n      <td>48.678947</td>\n      <td>17.400000</td>\n      <td>23.331579</td>\n      <td>1.573684</td>\n      <td>54.621053</td>\n      <td>66.184211</td>\n      <td>72.573684</td>\n      <td>79.931579</td>\n      <td>61.868421</td>\n      <td>56.836842</td>\n      <td>2.542105</td>\n      <td>6.621000e+06</td>\n      <td>27810.526316</td>\n      <td>AS Monaco</td>\n      <td>Ligue 1</td>\n      <td>0.406270</td>\n      <td>0.131337</td>\n      <td>2</td>\n    </tr>\n    <tr>\n      <td>AS Nancy Lorraine</td>\n      <td>48.453416</td>\n      <td>45.913043</td>\n      <td>15.801242</td>\n      <td>25.099379</td>\n      <td>1.105590</td>\n      <td>48.993789</td>\n      <td>63.149068</td>\n      <td>65.434783</td>\n      <td>70.677019</td>\n      <td>57.689441</td>\n      <td>49.236025</td>\n      <td>2.167702</td>\n      <td>7.576087e+05</td>\n      <td>3149.068323</td>\n      <td>AS Nancy Lorraine</td>\n      <td>Ligue 1</td>\n      <td>-0.912328</td>\n      <td>0.084571</td>\n      <td>1</td>\n    </tr>\n    <tr>\n      <td>AS Saint-Étienne</td>\n      <td>55.622222</td>\n      <td>52.300000</td>\n      <td>16.444444</td>\n      <td>24.622222</td>\n      <td>1.361111</td>\n      <td>55.616667</td>\n      <td>65.188889</td>\n      <td>70.650000</td>\n      <td>75.761111</td>\n      <td>63.011111</td>\n      <td>56.933333</td>\n      <td>2.400000</td>\n      <td>3.748806e+06</td>\n      <td>16572.222222</td>\n      <td>AS Saint-Étienne</td>\n      <td>Ligue 1</td>\n      <td>0.199340</td>\n      <td>-0.034396</td>\n      <td>2</td>\n    </tr>\n    <tr>\n      <td>Amiens SC</td>\n      <td>51.483607</td>\n      <td>45.188525</td>\n      <td>15.762295</td>\n      <td>25.098361</td>\n      <td>1.081967</td>\n      <td>51.327869</td>\n      <td>62.836066</td>\n      <td>66.655738</td>\n      <td>71.475410</td>\n      <td>59.713115</td>\n      <td>53.967213</td>\n      <td>2.434426</td>\n      <td>2.269959e+06</td>\n      <td>8754.098361</td>\n      <td>Amiens SC</td>\n      <td>Ligue 1</td>\n      <td>-0.524334</td>\n      <td>0.089463</td>\n      <td>1</td>\n    </tr>\n    <tr>\n      <td>Angers SCO</td>\n      <td>52.022346</td>\n      <td>47.173184</td>\n      <td>15.938547</td>\n      <td>25.675978</td>\n      <td>1.100559</td>\n      <td>51.938547</td>\n      <td>62.268156</td>\n      <td>67.905028</td>\n      <td>71.597765</td>\n      <td>59.938547</td>\n      <td>53.240223</td>\n      <td>2.301676</td>\n      <td>2.110978e+06</td>\n      <td>9178.770950</td>\n      <td>Angers SCO</td>\n      <td>Ligue 1</td>\n      <td>-0.507906</td>\n      <td>-0.090058</td>\n      <td>1</td>\n    </tr>\n    <tr>\n      <td>Arsenal</td>\n      <td>57.162437</td>\n      <td>51.939086</td>\n      <td>16.025381</td>\n      <td>24.319797</td>\n      <td>2.050761</td>\n      <td>58.573604</td>\n      <td>68.695431</td>\n      <td>75.065990</td>\n      <td>81.091371</td>\n      <td>63.228426</td>\n      <td>59.548223</td>\n      <td>2.705584</td>\n      <td>1.162673e+07</td>\n      <td>62162.436548</td>\n      <td>Arsenal</td>\n      <td>Premier League</td>\n      <td>1.040308</td>\n      <td>0.262990</td>\n      <td>0</td>\n    </tr>\n  </tbody>\n</table>\n</div>"
     },
     "execution_count": 121,
     "metadata": {},
     "output_type": "execute_result"
    }
   ],
   "source": [
    "res['club'] = list(res.index)\n",
    "res['league'] = list(res['club'].apply(lambda x:teams_leagues[x]))\n",
    "res['pc1'] = list(principalComponents[:,0])\n",
    "res['pc2'] = list(principalComponents[:,2])\n",
    "res['cluster'] = list(model.labels_)\n",
    "res.head(10)"
   ],
   "metadata": {
    "collapsed": false,
    "pycharm": {
     "name": "#%%\n"
    }
   }
  },
  {
   "cell_type": "code",
   "execution_count": 122,
   "outputs": [
    {
     "data": {
      "text/plain": "array(['attacking', 'defending', 'goalkeeping', 'average_age',\n       'international_reputation', 'mentality', 'movement', 'overall',\n       'potential', 'power', 'skill', 'skill_moves', 'value_eur',\n       'wage_eur', 'club', 'league', 'pc1', 'pc2', 'cluster'],\n      dtype=object)"
     },
     "execution_count": 122,
     "metadata": {},
     "output_type": "execute_result"
    }
   ],
   "source": [
    "res.columns.values"
   ],
   "metadata": {
    "collapsed": false,
    "pycharm": {
     "name": "#%%\n"
    }
   }
  },
  {
   "cell_type": "code",
   "execution_count": 123,
   "outputs": [],
   "source": [
    "res.to_csv('../FIFAData/Club_AggData.csv', index=False)"
   ],
   "metadata": {
    "collapsed": false,
    "pycharm": {
     "name": "#%%\n"
    }
   }
  }
 ],
 "metadata": {
  "kernelspec": {
   "display_name": "Python 3",
   "language": "python",
   "name": "python3"
  },
  "language_info": {
   "codemirror_mode": {
    "name": "ipython",
    "version": 2
   },
   "file_extension": ".py",
   "mimetype": "text/x-python",
   "name": "python",
   "nbconvert_exporter": "python",
   "pygments_lexer": "ipython2",
   "version": "2.7.6"
  }
 },
 "nbformat": 4,
 "nbformat_minor": 0
}