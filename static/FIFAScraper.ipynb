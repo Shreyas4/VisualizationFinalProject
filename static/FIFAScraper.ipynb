{
 "cells": [
  {
   "cell_type": "code",
   "execution_count": 11,
   "outputs": [],
   "source": [
    "teams_leagues = {\"FC Barcelona\":\"La Liga\",\n",
    "\"Real Madrid\":\"La Liga\",\n",
    "\"FC Bayern München\":\"Bundesliga\",\n",
    "\"Paris Saint-Germain\":\"Ligue 1\",\n",
    "\"Chelsea\":\"Premier League\",\n",
    "\"Manchester United\":\"Premier League\",\n",
    "\"Manchester City\":\"Premier League\",\n",
    "\"Borussia Dortmund\":\"Bundesliga\",\n",
    "\"Arsenal\":\"Premier League\",\n",
    "\"Juventus\":\"Serie A\",\n",
    "\"Tottenham Hotspur\":\"Premier League\",\n",
    "\"Atlético Madrid\":\"La Liga\",\n",
    "\"Napoli\":\"Serie A\",\n",
    "\"Roma\":\"Serie A\",\n",
    "\"FC Schalke 04\":\"Bundesliga\",\n",
    "\"Fiorentina\":\"Serie A\",\n",
    "\"Liverpool\":\"Premier League\",\n",
    "\"Lazio\":\"Serie A\",\n",
    "\"AS Monaco\":\"Ligue 1\",\n",
    "\"Inter\":\"Serie A\",\n",
    "\"Valencia CF\":\"La Liga\",\n",
    "\"Milan\":\"Serie A\",\n",
    "\"Real Sociedad\":\"La Liga\",\n",
    "\"Bayer 04 Leverkusen\":\"Bundesliga\",\n",
    "\"VfL Wolfsburg\":\"Bundesliga\",\n",
    "\"Everton\":\"Premier League\",\n",
    "\"Stoke City\":\"Premier League\",\n",
    "\"Sevilla FC\":\"La Liga\",\n",
    "\"Borussia Mönchengladbach\":\"Bundesliga\",\n",
    "\"West Ham United\":\"Premier League\",\n",
    "\"Athletic Club de Bilbao\":\"La Liga\",\n",
    "\"Southampton\":\"Premier League\",\n",
    "\"Olympique Lyonnais\":\"Ligue 1\",\n",
    "\"Olympique de Marseille\":\"Ligue 1\",\n",
    "\"Villarreal CF\":\"La Liga\",\n",
    "\"Aston Villa\":\"Premier League\",\n",
    "\"Newcastle United\":\"Premier League\",\n",
    "\"Queens Park Rangers\":\"Premier League\",\n",
    "\"AS Saint-Étienne\":\"Ligue 1\",\n",
    "\"Hamburger SV\":\"Bundesliga\",\n",
    "\"TSG 1899 Hoffenheim\":\"Bundesliga\",\n",
    "\"LOSC Lille\":\"Ligue 1\",\n",
    "\"Swansea City\":\"Premier League\",\n",
    "\"Eintracht Frankfurt\":\"Bundesliga\",\n",
    "\"VfB Stuttgart\":\"Bundesliga\",\n",
    "\"Sampdoria\":\"Serie A\",\n",
    "\"Torino\":\"Serie A\",\n",
    "\"FC Girondins de Bordeaux\":\"Ligue 1\",\n",
    "\"Málaga CF\":\"La Liga\",\n",
    "\"Sunderland\":\"Premier League\",\n",
    "\"West Bromwich Albion\":\"Premier League\",\n",
    "\"Hertha BSC\":\"Bundesliga\",\n",
    "\"1. FSV Mainz 05\":\"Bundesliga\",\n",
    "\"RC Celta\":\"La Liga\",\n",
    "\"Genoa\":\"Serie A\",\n",
    "\"Rayo Vallecano\":\"La Liga\",\n",
    "\"Hannover 96\":\"Bundesliga\",\n",
    "\"Crystal Palace\":\"Premier League\",\n",
    "\"SV Werder Bremen\":\"Bundesliga\",\n",
    "\"Atalanta\":\"Serie A\",\n",
    "\"Palermo\":\"Serie A\",\n",
    "\"Udinese\":\"Serie A\",\n",
    "\"FC Augsburg\":\"Bundesliga\",\n",
    "\"Getafe CF\":\"La Liga\",\n",
    "\"Stade Rennais FC\":\"Ligue 1\",\n",
    "\"Sassuolo\":\"Serie A\",\n",
    "\"Hull City\":\"Premier League\",\n",
    "\"RCD Espanyol\":\"La Liga\",\n",
    "\"Granada CF\":\"La Liga\",\n",
    "\"Deportivo de La Coruña\":\"La Liga\",\n",
    "\"Toulouse Football Club\":\"Ligue 1\",\n",
    "\"SC Freiburg\":\"Bundesliga\",\n",
    "\"1. FC Köln\":\"Bundesliga\",\n",
    "\"Cagliari\":\"Serie A\",\n",
    "\"Levante UD\":\"La Liga\",\n",
    "\"En Avant de Guingamp\":\"Ligue 1\",\n",
    "\"UD Almería\":\"La Liga\",\n",
    "\"Montpellier HSC\":\"Ligue 1\",\n",
    "\"FC Nantes\":\"Ligue 1\",\n",
    "\"Leicester City\":\"Premier League\",\n",
    "\"Stade de Reims\":\"Ligue 1\",\n",
    "\"Chievo Verona\":\"Serie A\",\n",
    "\"Hellas Verona\":\"Serie A\",\n",
    "\"Empoli\":\"Serie A\",\n",
    "\"SD Eibar\":\"La Liga\",\n",
    "\"Elche CF\":\"La Liga\",\n",
    "\"Parma\":\"Serie A\",\n",
    "\"Sporting Club de Bastia\":\"Ligue 1\",\n",
    "\"OGC Nice\":\"Ligue 1\",\n",
    "\"Córdoba CF\":\"La Liga\",\n",
    "\"FC Lorient\":\"Ligue 1\",\n",
    "\"Burnley\":\"Premier League\",\n",
    "\"Évian Thonon Gaillard FC\":\"Ligue 1\",\n",
    "\"SC Paderborn 07\":\"Bundesliga\",\n",
    "\"Stade Malherbe Caen\":\"Ligue 1\",\n",
    "\"Cesena\":\"Serie A\",\n",
    "\"FC Metz\":\"Ligue 1\",\n",
    "\"Racing Club de Lens\":\"Ligue 1\",\n",
    "\"Watford\":\"Premier League\",\n",
    "\"Norwich City\":\"Premier League\",\n",
    "\"Bologna\":\"Serie A\",\n",
    "\"Bournemouth\":\"Premier League\",\n",
    "\"Real Sporting de Gijón\":\"La Liga\",\n",
    "\"Carpi\":\"Serie A\",\n",
    "\"FC Ingolstadt 04\":\"Bundesliga\",\n",
    "\"UD Las Palmas\":\"La Liga\",\n",
    "\"SV Darmstadt 98\":\"Bundesliga\",\n",
    "\"Angers SCO\":\"Ligue 1\",\n",
    "\"ESTAC Troyes\":\"Ligue 1\",\n",
    "\"Frosinone\":\"Serie A\",\n",
    "\"GFC Ajaccio\":\"Ligue 1\",\n",
    "\"Middlesbrough\":\"Premier League\",\n",
    "\"CD Leganés\":\"La Liga\",\n",
    "\"RB Leipzig\":\"Bundesliga\",\n",
    "\"Deportivo Alavés\":\"La Liga\",\n",
    "\"Pescara\":\"Serie A\",\n",
    "\"Dijon FCO\":\"Ligue 1\",\n",
    "\"AS Nancy Lorraine\":\"Ligue 1\",\n",
    "\"Crotone\":\"Serie A\",\n",
    "\"Real Betis\":\"La Liga\",\n",
    "\"Girona FC\":\"La Liga\",\n",
    "\"Huddersfield Town\":\"Premier League\",\n",
    "\"Amiens SC\":\"Ligue 1\",\n",
    "\"SPAL\":\"Serie A\",\n",
    "\"RC Strasbourg Alsace\":\"Ligue 1\",\n",
    "\"Benevento\":\"Serie A\",\n",
    "\"Wolverhampton Wanderers\":\"Premier League\",\n",
    "\"Brighton & Hove Albion\":\"Premier League\",\n",
    "\"Fulham\":\"Premier League\",\n",
    "\"Fortuna Düsseldorf\":\"Bundesliga\",\n",
    "\"Cardiff City\":\"Premier League\",\n",
    "\"Nîmes Olympique\":\"Ligue 1\",\n",
    "\"1. FC Nürnberg\":\"Bundesliga\",\n",
    "\"SD Huesca\":\"La Liga\",\n",
    "\"Sheffield United\":\"Premier League\",\n",
    "\"RCD Mallorca\":\"La Liga\",\n",
    "\"1. FC Union Berlin\":\"Bundesliga\",\n",
    "\"Lecce\":\"Serie A\",\n",
    "\"Stade Brestois 29\":\"Ligue 1\",\n",
    "\"Brescia\":\"Serie A\",\n",
    "\"CA Osasuna\":\"La Liga\",\n",
    "\"Real Valladolid CF\":\"La Liga\"}"
   ],
   "metadata": {
    "collapsed": false,
    "pycharm": {
     "name": "#%%\n"
    }
   }
  },
  {
   "cell_type": "code",
   "execution_count": 12,
   "metadata": {},
   "outputs": [
    {
     "data": {
      "text/plain": "(100995, 105)"
     },
     "execution_count": 12,
     "metadata": {},
     "output_type": "execute_result"
    }
   ],
   "source": [
    "import pandas as pd\n",
    "df = pd.read_csv('../FIFAData/players_'+str(15)+'.csv')\n",
    "df['year']=2015\n",
    "for i in range(16,21):\n",
    "    temp = pd.read_csv('../FIFAData/players_'+str(i)+'.csv')\n",
    "    temp['year'] = 2000+i\n",
    "    df = df.append(temp, ignore_index=True)\n",
    "df.shape"
   ]
  },
  {
   "cell_type": "code",
   "execution_count": 13,
   "outputs": [
    {
     "data": {
      "text/plain": "0"
     },
     "execution_count": 13,
     "metadata": {},
     "output_type": "execute_result"
    }
   ],
   "source": [
    "import re\n",
    "def convert_symboled(s):\n",
    "    s = str(s).strip()\n",
    "    x = s.split('+')\n",
    "    try:\n",
    "        if len(x)>1:\n",
    "            return int(x[0])+int(x[1])\n",
    "        else:\n",
    "            x = s.split('-')\n",
    "            if len(x)>1:\n",
    "                return int(x[0])-int(x[1])\n",
    "            return int(s)\n",
    "    except:\n",
    "        return(0)\n",
    "convert_symboled('')"
   ],
   "metadata": {
    "collapsed": false,
    "pycharm": {
     "name": "#%%\n"
    }
   }
  },
  {
   "cell_type": "code",
   "execution_count": 14,
   "metadata": {},
   "outputs": [
    {
     "name": "stdout",
     "output_type": "stream",
     "text": [
      "53\n"
     ]
    },
    {
     "data": {
      "text/plain": "['age',\n 'attacking_crossing',\n 'attacking_finishing',\n 'attacking_heading_accuracy',\n 'attacking_short_passing',\n 'attacking_volleys',\n 'club',\n 'defending_marking',\n 'defending_sliding_tackle',\n 'defending_standing_tackle',\n 'goalkeeping_diving',\n 'goalkeeping_handling',\n 'goalkeeping_kicking',\n 'goalkeeping_positioning',\n 'goalkeeping_reflexes',\n 'height_cm',\n 'international_reputation',\n 'long_name',\n 'mentality_aggression',\n 'mentality_interceptions',\n 'mentality_penalties',\n 'mentality_positioning',\n 'mentality_vision',\n 'movement_acceleration',\n 'movement_agility',\n 'movement_balance',\n 'movement_reactions',\n 'movement_sprint_speed',\n 'nationality',\n 'overall',\n 'player_positions',\n 'potential',\n 'power_jumping',\n 'power_long_shots',\n 'power_shot_power',\n 'power_stamina',\n 'power_strength',\n 'preferred_foot',\n 'real_face',\n 'short_name',\n 'skill_ball_control',\n 'skill_curve',\n 'skill_dribbling',\n 'skill_fk_accuracy',\n 'skill_long_passing',\n 'skill_moves',\n 'sofifa_id',\n 'value_eur',\n 'wage_eur',\n 'weak_foot',\n 'weight_kg',\n 'work_rate',\n 'year']"
     },
     "execution_count": 14,
     "metadata": {},
     "output_type": "execute_result"
    }
   ],
   "source": [
    "df = df.dropna(axis='columns')\n",
    "df = df.drop(['dob', 'body_type', 'player_url'], axis=1)\n",
    "available_columns = sorted(list(df.columns.values))\n",
    "print(len(available_columns))\n",
    "available_columns\n",
    "# attacking = 'attacking_crossing' + 'attacking_finishing' + 'attacking_heading_accuracy' + 'attacking_short_passing'+ 'attacking_volleys'\n",
    "# defending = 'defending_marking' + 'defending_sliding_tackle' + 'defending_standing_tackle'\n",
    "# goalkeeping = 'goalkeeping_diving'+ 'goalkeeping_handling' + 'goalkeeping_kicking'+ 'goalkeeping_positioning' + 'goalkeeping_reflexes'\n",
    "# average_age\n",
    "# club\n",
    "# international_reputation\n",
    "# mentality = 'mentality_aggression' + 'mentality_interceptions' + 'mentality_penalties' + 'mentality_positioning' + 'mentality_vision'\n",
    "# movement = 'movement_acceleration' + 'movement_agility' + 'movement_balance' + 'movement_reactions' + 'movement_sprint_speed'\n",
    "# overall\n",
    "# potential\n",
    "# power = 'power_jumping' + 'power_long_shots' + 'power_shot_power' + 'power_stamina' + 'power_strength'\n",
    "# skill = 'skill_ball_control' + 'skill_curve'+ 'skill_dribbling'+ 'skill_fk_accuracy'+ 'skill_long_passing'+ 'skill_moves'\n",
    "# skill_moves\n",
    "# total_value_eur\n",
    "# total_wage_eur\n",
    "# work_rate\n",
    "# year"
   ]
  },
  {
   "cell_type": "code",
   "execution_count": 15,
   "outputs": [
    {
     "name": "stdout",
     "output_type": "stream",
     "text": [
      "1000  done\n",
      "2000  done\n",
      "3000  done\n",
      "4000  done\n",
      "5000  done\n",
      "6000  done\n",
      "7000  done\n",
      "8000  done\n",
      "9000  done\n",
      "10000  done\n",
      "11000  done\n",
      "12000  done\n",
      "13000  done\n",
      "14000  done\n",
      "15000  done\n",
      "16000  done\n",
      "17000  done\n",
      "18000  done\n",
      "19000  done\n",
      "20000  done\n",
      "21000  done\n",
      "22000  done\n",
      "23000  done\n",
      "24000  done\n"
     ]
    },
    {
     "data": {
      "text/plain": "                  club      league attacking defending goalkeeping  \\\n1         FC Barcelona     La Liga        83        22          10   \n2          Real Madrid     La Liga        87        25          11   \n3    FC Bayern München  Bundesliga        78        28           9   \n4  Paris Saint-Germain     Ligue 1        84        28          11   \n5    FC Bayern München  Bundesliga        28        25          89   \n\n  average_age international_reputation mentality movement overall potential  \\\n1          27                        5        65       93      93        95   \n2          29                        5        69       83      92        92   \n3          30                        5        70       92      90        90   \n4          32                        5        72       72      90        90   \n5          28                        5        30       61      90        90   \n\n  power skill skill_moves value_eur wage_eur      work_rate  year  \n1    75    90           4         0        0     Medium/Low  2015  \n2    89    84           5         0        0       High/Low  2015  \n3    78    86           4         0        0       High/Low  2015  \n4    84    83           4         0        0     Medium/Low  2015  \n5    57    29           1         0        0  Medium/Medium  2015  ",
      "text/html": "<div>\n<style scoped>\n    .dataframe tbody tr th:only-of-type {\n        vertical-align: middle;\n    }\n\n    .dataframe tbody tr th {\n        vertical-align: top;\n    }\n\n    .dataframe thead th {\n        text-align: right;\n    }\n</style>\n<table border=\"1\" class=\"dataframe\">\n  <thead>\n    <tr style=\"text-align: right;\">\n      <th></th>\n      <th>club</th>\n      <th>league</th>\n      <th>attacking</th>\n      <th>defending</th>\n      <th>goalkeeping</th>\n      <th>average_age</th>\n      <th>international_reputation</th>\n      <th>mentality</th>\n      <th>movement</th>\n      <th>overall</th>\n      <th>potential</th>\n      <th>power</th>\n      <th>skill</th>\n      <th>skill_moves</th>\n      <th>value_eur</th>\n      <th>wage_eur</th>\n      <th>work_rate</th>\n      <th>year</th>\n    </tr>\n  </thead>\n  <tbody>\n    <tr>\n      <td>1</td>\n      <td>FC Barcelona</td>\n      <td>La Liga</td>\n      <td>83</td>\n      <td>22</td>\n      <td>10</td>\n      <td>27</td>\n      <td>5</td>\n      <td>65</td>\n      <td>93</td>\n      <td>93</td>\n      <td>95</td>\n      <td>75</td>\n      <td>90</td>\n      <td>4</td>\n      <td>0</td>\n      <td>0</td>\n      <td>Medium/Low</td>\n      <td>2015</td>\n    </tr>\n    <tr>\n      <td>2</td>\n      <td>Real Madrid</td>\n      <td>La Liga</td>\n      <td>87</td>\n      <td>25</td>\n      <td>11</td>\n      <td>29</td>\n      <td>5</td>\n      <td>69</td>\n      <td>83</td>\n      <td>92</td>\n      <td>92</td>\n      <td>89</td>\n      <td>84</td>\n      <td>5</td>\n      <td>0</td>\n      <td>0</td>\n      <td>High/Low</td>\n      <td>2015</td>\n    </tr>\n    <tr>\n      <td>3</td>\n      <td>FC Bayern München</td>\n      <td>Bundesliga</td>\n      <td>78</td>\n      <td>28</td>\n      <td>9</td>\n      <td>30</td>\n      <td>5</td>\n      <td>70</td>\n      <td>92</td>\n      <td>90</td>\n      <td>90</td>\n      <td>78</td>\n      <td>86</td>\n      <td>4</td>\n      <td>0</td>\n      <td>0</td>\n      <td>High/Low</td>\n      <td>2015</td>\n    </tr>\n    <tr>\n      <td>4</td>\n      <td>Paris Saint-Germain</td>\n      <td>Ligue 1</td>\n      <td>84</td>\n      <td>28</td>\n      <td>11</td>\n      <td>32</td>\n      <td>5</td>\n      <td>72</td>\n      <td>72</td>\n      <td>90</td>\n      <td>90</td>\n      <td>84</td>\n      <td>83</td>\n      <td>4</td>\n      <td>0</td>\n      <td>0</td>\n      <td>Medium/Low</td>\n      <td>2015</td>\n    </tr>\n    <tr>\n      <td>5</td>\n      <td>FC Bayern München</td>\n      <td>Bundesliga</td>\n      <td>28</td>\n      <td>25</td>\n      <td>89</td>\n      <td>28</td>\n      <td>5</td>\n      <td>30</td>\n      <td>61</td>\n      <td>90</td>\n      <td>90</td>\n      <td>57</td>\n      <td>29</td>\n      <td>1</td>\n      <td>0</td>\n      <td>0</td>\n      <td>Medium/Medium</td>\n      <td>2015</td>\n    </tr>\n  </tbody>\n</table>\n</div>"
     },
     "execution_count": 15,
     "metadata": {},
     "output_type": "execute_result"
    }
   ],
   "source": [
    "df2 = pd.DataFrame(columns = ['club', 'league', 'attacking', 'defending', 'goalkeeping', 'average_age',\n",
    "                   'international_reputation', 'mentality', 'movement', 'overall', 'potential',\n",
    "                   'power', 'skill', 'skill_moves','value_eur', 'wage_eur', 'work_rate', 'year'])\n",
    "i=0\n",
    "teams = set(teams_leagues.keys())\n",
    "for x, r in df.iterrows():\n",
    "    if str(r['club']).strip() in teams:\n",
    "        l=[]\n",
    "        i+=1\n",
    "        if i%1000==0:\n",
    "            print(i, ' done')\n",
    "        l.append(str(r['club']).strip())\n",
    "        l.append(teams_leagues[str(r['club']).strip()])\n",
    "        l.append(int((convert_symboled(r['attacking_crossing']) + convert_symboled(r['attacking_finishing']) +\n",
    "                 convert_symboled(r['attacking_heading_accuracy']) + convert_symboled(r['attacking_short_passing'])+ convert_symboled(r['attacking_volleys']))/5))\n",
    "        l.append(int((convert_symboled(r['defending_marking']) + convert_symboled(r['defending_sliding_tackle']) +\n",
    "                 convert_symboled(r['defending_standing_tackle']))/3))\n",
    "        l.append(int((convert_symboled(r['goalkeeping_diving']) + convert_symboled(r['goalkeeping_handling']) +\n",
    "                 convert_symboled(r['goalkeeping_kicking']) + convert_symboled(r['goalkeeping_positioning'])+ convert_symboled(r['goalkeeping_reflexes']))/5))\n",
    "        l.append(r['age'])\n",
    "        l.append(r['international_reputation'])\n",
    "        l.append(int((convert_symboled(r['mentality_aggression']) + convert_symboled(r['mentality_interceptions']) +\n",
    "                 convert_symboled(r['mentality_penalties']) + convert_symboled(r['mentality_positioning'])+ convert_symboled(r['mentality_vision']))/5))\n",
    "        l.append(int((convert_symboled(r['movement_acceleration']) + convert_symboled(r['movement_agility']) +\n",
    "                 convert_symboled(r['movement_balance']) + convert_symboled(r['movement_reactions'])+ convert_symboled(r['movement_sprint_speed']))/5))\n",
    "        l.append(r['overall'])\n",
    "        l.append(r['potential'])\n",
    "        l.append(int((convert_symboled(r['power_jumping']) + convert_symboled(r['power_long_shots']) +\n",
    "                 convert_symboled(r['power_shot_power']) + convert_symboled(r['power_stamina'])+ convert_symboled(r['power_strength']))/5))\n",
    "        l.append(int((convert_symboled(r['skill_ball_control']) + convert_symboled(r['skill_curve']) +\n",
    "                 convert_symboled(r['skill_dribbling']) + convert_symboled(r['skill_fk_accuracy'])+ convert_symboled(r['skill_long_passing']))/5))\n",
    "        l.append(r['skill_moves'])\n",
    "        l.append(r['value_eur'])\n",
    "        l.append(r['wage_eur'])\n",
    "        l.append(r['work_rate'])\n",
    "        l.append(r['year'])\n",
    "        df2.loc[i] = l\n",
    "df2.head(5)"
   ],
   "metadata": {
    "collapsed": false,
    "pycharm": {
     "name": "#%%\n"
    }
   }
  },
  {
   "cell_type": "code",
   "execution_count": 16,
   "outputs": [
    {
     "data": {
      "text/plain": "(24122, 18)"
     },
     "execution_count": 16,
     "metadata": {},
     "output_type": "execute_result"
    }
   ],
   "source": [
    "df2.shape"
   ],
   "metadata": {
    "collapsed": false,
    "pycharm": {
     "name": "#%%\n"
    }
   }
  },
  {
   "cell_type": "code",
   "execution_count": 17,
   "outputs": [
    {
     "data": {
      "text/plain": "                   club      league attacking defending goalkeeping  \\\n24118  FC Ingolstadt 04  Bundesliga        11        10          49   \n24119           Pescara     Serie A        42        50          11   \n24120           Crotone     Serie A        12         9          47   \n24121     Chievo Verona     Serie A        31        54          13   \n24122             Lecce     Serie A        11        13          49   \n\n      average_age international_reputation mentality movement overall  \\\n24118          18                        1        16       33      50   \n24119          21                        1        47       58      50   \n24120          18                        1        14       33      49   \n24121          22                        1        42       59      49   \n24122          21                        1        13       31      49   \n\n      potential power skill skill_moves value_eur wage_eur      work_rate  \\\n24118        64    34    12           1     50000     1000  Medium/Medium   \n24119        60    43    46           2     50000     1000  Medium/Medium   \n24120        69    36    15           1     50000     1000  Medium/Medium   \n24121        59    41    32           2     40000     1000  Medium/Medium   \n24122        59    35    13           1     40000     1000  Medium/Medium   \n\n       year  \n24118  2020  \n24119  2020  \n24120  2020  \n24121  2020  \n24122  2020  ",
      "text/html": "<div>\n<style scoped>\n    .dataframe tbody tr th:only-of-type {\n        vertical-align: middle;\n    }\n\n    .dataframe tbody tr th {\n        vertical-align: top;\n    }\n\n    .dataframe thead th {\n        text-align: right;\n    }\n</style>\n<table border=\"1\" class=\"dataframe\">\n  <thead>\n    <tr style=\"text-align: right;\">\n      <th></th>\n      <th>club</th>\n      <th>league</th>\n      <th>attacking</th>\n      <th>defending</th>\n      <th>goalkeeping</th>\n      <th>average_age</th>\n      <th>international_reputation</th>\n      <th>mentality</th>\n      <th>movement</th>\n      <th>overall</th>\n      <th>potential</th>\n      <th>power</th>\n      <th>skill</th>\n      <th>skill_moves</th>\n      <th>value_eur</th>\n      <th>wage_eur</th>\n      <th>work_rate</th>\n      <th>year</th>\n    </tr>\n  </thead>\n  <tbody>\n    <tr>\n      <td>24118</td>\n      <td>FC Ingolstadt 04</td>\n      <td>Bundesliga</td>\n      <td>11</td>\n      <td>10</td>\n      <td>49</td>\n      <td>18</td>\n      <td>1</td>\n      <td>16</td>\n      <td>33</td>\n      <td>50</td>\n      <td>64</td>\n      <td>34</td>\n      <td>12</td>\n      <td>1</td>\n      <td>50000</td>\n      <td>1000</td>\n      <td>Medium/Medium</td>\n      <td>2020</td>\n    </tr>\n    <tr>\n      <td>24119</td>\n      <td>Pescara</td>\n      <td>Serie A</td>\n      <td>42</td>\n      <td>50</td>\n      <td>11</td>\n      <td>21</td>\n      <td>1</td>\n      <td>47</td>\n      <td>58</td>\n      <td>50</td>\n      <td>60</td>\n      <td>43</td>\n      <td>46</td>\n      <td>2</td>\n      <td>50000</td>\n      <td>1000</td>\n      <td>Medium/Medium</td>\n      <td>2020</td>\n    </tr>\n    <tr>\n      <td>24120</td>\n      <td>Crotone</td>\n      <td>Serie A</td>\n      <td>12</td>\n      <td>9</td>\n      <td>47</td>\n      <td>18</td>\n      <td>1</td>\n      <td>14</td>\n      <td>33</td>\n      <td>49</td>\n      <td>69</td>\n      <td>36</td>\n      <td>15</td>\n      <td>1</td>\n      <td>50000</td>\n      <td>1000</td>\n      <td>Medium/Medium</td>\n      <td>2020</td>\n    </tr>\n    <tr>\n      <td>24121</td>\n      <td>Chievo Verona</td>\n      <td>Serie A</td>\n      <td>31</td>\n      <td>54</td>\n      <td>13</td>\n      <td>22</td>\n      <td>1</td>\n      <td>42</td>\n      <td>59</td>\n      <td>49</td>\n      <td>59</td>\n      <td>41</td>\n      <td>32</td>\n      <td>2</td>\n      <td>40000</td>\n      <td>1000</td>\n      <td>Medium/Medium</td>\n      <td>2020</td>\n    </tr>\n    <tr>\n      <td>24122</td>\n      <td>Lecce</td>\n      <td>Serie A</td>\n      <td>11</td>\n      <td>13</td>\n      <td>49</td>\n      <td>21</td>\n      <td>1</td>\n      <td>13</td>\n      <td>31</td>\n      <td>49</td>\n      <td>59</td>\n      <td>35</td>\n      <td>13</td>\n      <td>1</td>\n      <td>40000</td>\n      <td>1000</td>\n      <td>Medium/Medium</td>\n      <td>2020</td>\n    </tr>\n  </tbody>\n</table>\n</div>"
     },
     "execution_count": 17,
     "metadata": {},
     "output_type": "execute_result"
    }
   ],
   "source": [
    "df2.tail(5)"
   ],
   "metadata": {
    "collapsed": false,
    "pycharm": {
     "name": "#%%\n"
    }
   }
  },
  {
   "cell_type": "code",
   "execution_count": 18,
   "outputs": [],
   "source": [
    "df2.to_csv('../FIFAData/DataForClubs.csv')"
   ],
   "metadata": {
    "collapsed": false,
    "pycharm": {
     "name": "#%%\n"
    }
   }
  },
  {
   "cell_type": "code",
   "execution_count": 19,
   "metadata": {
    "pycharm": {
     "name": "#%%\n"
    }
   },
   "outputs": [
    {
     "data": {
      "text/plain": "{'2015': 4042,\n '2016': 3753,\n '2017': 4052,\n '2018': 4065,\n '2019': 4119,\n '2020': 4091}"
     },
     "execution_count": 19,
     "metadata": {},
     "output_type": "execute_result"
    }
   ],
   "source": [
    "c=0\n",
    "dict = {'2015':0, '2016':0, '2017':0, '2018':0, '2019':0, '2020':0}\n",
    "for i, r in df.iterrows():\n",
    "    if r['club'] in set(teams_leagues.keys()):\n",
    "        dict[str(r['year'])]=dict[str(r['year'])]+1\n",
    "dict"
   ]
  },
  {
   "cell_type": "code",
   "execution_count": 20,
   "metadata": {
    "pycharm": {
     "name": "#%%\n"
    }
   },
   "outputs": [
    {
     "data": {
      "text/plain": "{'D', 'GA', 'GD', 'GF', 'L', 'Pld', 'Pos', 'Pts', 'Team', 'W'}"
     },
     "execution_count": 20,
     "metadata": {},
     "output_type": "execute_result"
    }
   ],
   "source": [
    "leagues = ['PL', 'LL', 'BL', 'SA', 'L1']\n",
    "cols_set = set(list(pd.read_csv('../FIFAData/Tables/PL1415.csv').columns.values))\n",
    "temp_df = pd.DataFrame()\n",
    "for i in range(14, 20):\n",
    "    for l in leagues:\n",
    "        temp_df = pd.read_csv('../FIFAData/Tables/'+l+str(i)+str(i+1)+'.csv')\n",
    "        cols_set = cols_set.intersection(set(list(temp_df.columns.values)))\n",
    "cols_set"
   ]
  },
  {
   "cell_type": "code",
   "execution_count": 20,
   "metadata": {
    "pycharm": {
     "name": "#%%\n"
    }
   },
   "outputs": [],
   "source": []
  }
 ],
 "metadata": {
  "kernelspec": {
   "display_name": "Python 3",
   "language": "python",
   "name": "python3"
  },
  "language_info": {
   "codemirror_mode": {
    "name": "ipython",
    "version": 3
   },
   "file_extension": ".py",
   "mimetype": "text/x-python",
   "name": "python",
   "nbconvert_exporter": "python",
   "pygments_lexer": "ipython3",
   "version": "3.7.4"
  }
 },
 "nbformat": 4,
 "nbformat_minor": 1
}